{
 "cells": [
  {
   "cell_type": "markdown",
   "metadata": {},
   "source": [
    "# Cross Validation and Simple Linear Regression\n",
    "\n",
    "This is the process that gives us the internal and the cross-validation measures of predictive accuracy for a simple linear regression. The data are randomly assigned to a number of \"folds\", which in our context is the test and training folds. Each fold is removed, in turn, while the remaining data is used to re-fit the regression model and to predict at the deleted observations.\n",
    "\n",
    "We will predict employee salaries from different employee characteristics (or features). We are going to use a simple supervised learning technique: linear regression. We want to build a simple model to determine how well Years Worked predicts an employee’s salary. "
   ]
  },
  {
   "cell_type": "markdown",
   "metadata": {},
   "source": [
    "## 1. Importing"
   ]
  },
  {
   "cell_type": "code",
   "execution_count": null,
   "metadata": {},
   "outputs": [],
   "source": [
    "# Importing libraries\n",
    "import matplotlib.pyplot as plt\n",
    "import pandas as pd\n",
    "import seaborn as sns\n",
    "from sklearn.model_selection import train_test_split\n",
    "import statsmodels.formula.api as smf\n",
    "import matplotlib.pyplot as plt\n",
    "import pandas as pd\n",
    "import numpy as np\n",
    "from sklearn.linear_model import LinearRegression\n",
    "import statsmodels.formula.api as smf\n",
    "from sklearn.model_selection import train_test_split\n",
    "import seaborn as sns\n",
    "from sklearn import datasets, linear_model\n",
    "from scipy.stats import iqr\n",
    "from scipy import stats\n",
    "from scipy.stats import pearsonr\n",
    "from sklearn.metrics import mean_squared_error\n",
    "from math import sqrt"
   ]
  },
  {
   "cell_type": "code",
   "execution_count": null,
   "metadata": {},
   "outputs": [],
   "source": [
    "# Reading data into a dataframe\n",
    "salary = pd.read_csv('salary.csv')\n",
    "salary.head()"
   ]
  },
  {
   "cell_type": "markdown",
   "metadata": {},
   "source": [
    "<h1><center>Type of data</center></h1> \n",
    "\n",
    "| Continuous | Categorical | Binary |\n",
    "| --- | --- | --- |\n",
    "| Salary | position | degree |\n",
    "| exprior | field | otherqual |\n",
    "| Yearsworked | - | male |\n",
    "| market | - | - |\n",
    "| yearsranked | - | -|\n",
    "| yearsabs | - | - |\n",
    "\n",
    "<h1><center>Feature description</center></h1> \n",
    "\n",
    "| Feature | Description |\n",
    "| --- | --- |\n",
    "| exprior | Years of experience prior to working in this field |\n",
    "| Yearsworked | Years worked in this field |\n",
    "| yearsrank | Years worked at current rank |\n",
    "| market | Market value (1 = salary at market value for position, <br> <1 salary lower than market value for position,<br> >1 salary higher than market value for position) |\n",
    "| degree | Has degree (0 = no 1= yes) |\n",
    "| otherqual | Has other post-secondary qualification (0 = no, 1=yes) |\n",
    "| position | Position (1 = Junior Employee 2=Manager 3= Executive) |\n",
    "| male | 0 = no 1 1=yes |\n",
    "| Field | Field of work (1 = Engineering 2=Finance 3=Human Resource 4=Marketing) |\n",
    "| yearsabs |Years absent from work (e.g. due to illness / child rearing / personal reasons)|\n",
    "\n",
    "<h1><center>Response description</center></h1> \n",
    "\n",
    "| Response | Description |\n",
    "| --- | --- |\n",
    "| <font color='black'> salary </font>| <font color='black'>  Annual salary in dollars </font> | "
   ]
  },
  {
   "cell_type": "markdown",
   "metadata": {},
   "source": [
    "## 2. Cleaning data\n",
    "Data cleaning is the process of detecting and correcting corrupt or inaccurate data from a dataset, table, or database and refers to identifying incomplete, incorrect, inaccurate or irrelevant parts of the data and then replacing, modifying, or deleting the dirty or coarse data.\n",
    "### 2.1 Examining missing values"
   ]
  },
  {
   "cell_type": "code",
   "execution_count": null,
   "metadata": {},
   "outputs": [],
   "source": [
    "#Checking for missing values for our dataset\n",
    "\n",
    "salary.isnull().sum()"
   ]
  },
  {
   "cell_type": "code",
   "execution_count": null,
   "metadata": {},
   "outputs": [],
   "source": [
    "#Filling the missing values with the average\n",
    "salary = salary.fillna(salary['salary'].mean())\n",
    "salary.head()"
   ]
  },
  {
   "cell_type": "markdown",
   "metadata": {},
   "source": [
    "##### What we did with the missing values in the data\n",
    "\n",
    "- We <b>filled</b> the missing value that appeared in the <b>salary</b> column with the <b>mean</b> of that column."
   ]
  },
  {
   "cell_type": "markdown",
   "metadata": {},
   "source": [
    "### 2.2 Examing duplicates within the dataset"
   ]
  },
  {
   "cell_type": "code",
   "execution_count": null,
   "metadata": {},
   "outputs": [],
   "source": [
    "#Dropping duplicates within the dataset\n",
    "salary = salary.drop_duplicates"
   ]
  },
  {
   "cell_type": "markdown",
   "metadata": {},
   "source": [
    "##### Dealing with duplicates within the dataset\n",
    "\n",
    "We dropped any duplicates that may exist within the dataset"
   ]
  },
  {
   "cell_type": "markdown",
   "metadata": {},
   "source": [
    "### 2.3 Examining outliers within the dataset\n",
    "In statistics, an outlier is an observation point that is distant from other observations.\n"
   ]
  },
  {
   "cell_type": "code",
   "execution_count": null,
   "metadata": {
    "scrolled": true
   },
   "outputs": [],
   "source": [
    "#Checking for extreme values\n",
    "sns.set()\n",
    "sns.set(style=\"whitegrid\")\n",
    "fig, axes = plt.subplots(1,2, figsize=(15, 15))\n",
    "sns.boxplot(x=salary[\"salary\"], ax=axes[0], data = salary)\n",
    "sns.boxplot(x=salary[\"exprior\"], ax=axes[1],data = salary)\n"
   ]
  },
  {
   "cell_type": "code",
   "execution_count": null,
   "metadata": {},
   "outputs": [],
   "source": [
    "#Removing the outliers\n",
    "removed_outliers = salary['salary'].between(salary['salary'].quantile(.05), salary['salary'].quantile(.95))\n",
    "\n",
    "salary[removed_outliers].plot().get_figure()"
   ]
  },
  {
   "cell_type": "markdown",
   "metadata": {},
   "source": [
    "##### Outliers\n",
    "\n",
    "We have observed <b> two outliers</b> for the salary values, and <b>none</b> for the yearsworked values.\n",
    "\n",
    "how we intend on dealing with the outliers is to remove them, as they may...."
   ]
  },
  {
   "cell_type": "markdown",
   "metadata": {},
   "source": [
    "## 3. Spliting data\n",
    "These are two rather important concepts in data science and data analysis and are used as tools to prevent (or at least minimize) overfitting. We usually fit the model on a training set in order to make predications on a data that wasn’t trained (general data)"
   ]
  },
  {
   "cell_type": "code",
   "execution_count": null,
   "metadata": {},
   "outputs": [],
   "source": [
    "#Split our data\n",
    "x = salary[['exprior','yearsworked','yearsrank','market','degree','otherqual','position', 'male','Field','yearsabs']]\n",
    "y = salary['salary']\n",
    "X_train, X_test, y_train, y_test = train_test_split(x, y, test_size=0.20)\n",
    "\n",
    "\n"
   ]
  },
  {
   "cell_type": "code",
   "execution_count": null,
   "metadata": {},
   "outputs": [],
   "source": [
    "X_train, X_test, y_train, y_test = train_test_split(x, y, test_size=0.20)\n",
    "y_train = pd.DataFrame(y_train)"
   ]
  },
  {
   "cell_type": "markdown",
   "metadata": {},
   "source": [
    "### 3.1 Viewing the split data"
   ]
  },
  {
   "cell_type": "code",
   "execution_count": null,
   "metadata": {
    "scrolled": true
   },
   "outputs": [],
   "source": [
    "#showcasing the first 5 observations of the X_train dataset \n",
    "X_train.head()\n"
   ]
  },
  {
   "cell_type": "code",
   "execution_count": null,
   "metadata": {},
   "outputs": [],
   "source": [
    "#showcasing the first 5 observations of the y_train dataset \n",
    "y_train.head()"
   ]
  },
  {
   "cell_type": "code",
   "execution_count": null,
   "metadata": {
    "scrolled": true
   },
   "outputs": [],
   "source": [
    "#Describing the dataset of y_train\n",
    "y_train.describe()\n"
   ]
  },
  {
   "cell_type": "markdown",
   "metadata": {},
   "source": [
    "Talk about the distribution:\n",
    "mean\n",
    "median\n",
    "interquartile"
   ]
  },
  {
   "cell_type": "markdown",
   "metadata": {},
   "source": [
    "### Describing the datasets\n",
    " - The training dataset contains <b> 80% of the overall dataset </b> and has been divided into two datasets the <b>feautures dataset </b> and the <b>response variable dataset</b>\n",
    " - talk about the <b>mean</b>, <b>median</b> and the <b>mode</b>\n",
    " "
   ]
  },
  {
   "cell_type": "markdown",
   "metadata": {},
   "source": [
    "## 4. Distribution of the data\n",
    "The distribution of a statistical data set (or a population) is a listing or function showing all the possible values (or intervals) of the data and how often they occur."
   ]
  },
  {
   "cell_type": "code",
   "execution_count": null,
   "metadata": {},
   "outputs": [],
   "source": [
    "#Creating histograms with density line\n",
    "\n",
    "sns.set()\n",
    "sns.set(style=\"whitegrid\")\n",
    "fig, axes = plt.subplots(1, 2,figsize=(20, 6))\n",
    "sns.distplot(X_train[\"yearsworked\"], hist=True, kde=True, \n",
    "             bins=int(180/5), color = 'darkblue', \n",
    "             hist_kws={'edgecolor':'black'},\n",
    "             kde_kws={'linewidth': 4}, ax=axes[0])\n",
    "\n",
    "sns.distplot(y_train, hist=True, kde=True, \n",
    "             bins=int(180/5), color = 'darkblue', \n",
    "             hist_kws={'edgecolor':'black'},\n",
    "             kde_kws={'linewidth': 4}, ax=axes[1])\n",
    "\n",
    "axes[0].set_title('The histogram for years worked')\n",
    "axes[1].set_title('The histogram for salary')\n",
    "plt.show()"
   ]
  },
  {
   "cell_type": "markdown",
   "metadata": {},
   "source": [
    "##### Comment on distribution of the response and the feature\n",
    "\n",
    "For salaries earned the peak of salaries is between 37000 dollars and 43000 dollars.There are potential outliers in this data. This histogram simply shows that a lot of people earn between 35000 dollars and 47000 dollars. Then only a few earn between 83000 dollars and 89000 dollars. This few is most likey to be the excutive and a lot of people are holding junior positions"
   ]
  },
  {
   "cell_type": "markdown",
   "metadata": {},
   "source": [
    "## 5. Correlation\n",
    "Correlation is a statistical technique that can show whether and how strongly pairs of variables are related."
   ]
  },
  {
   "cell_type": "code",
   "execution_count": null,
   "metadata": {},
   "outputs": [],
   "source": [
    "#Creating scatterplot\n",
    "\n",
    "\n",
    "combined = pd.DataFrame(X_train)\n",
    "combined.head()\n",
    "# sns.lmplot(x=combined['yearsworked'],y=combined['salary'], data=combined)"
   ]
  },
  {
   "cell_type": "markdown",
   "metadata": {},
   "source": [
    "Are the data appropriate for linear regression? Is there anything that needs to be transformed or edited first?\n",
    "\n",
    "The line of best fit shows a strong relationship between years worked and the salary earned. There are some outliers which are the furthest points from the line of best fit."
   ]
  },
  {
   "cell_type": "code",
   "execution_count": null,
   "metadata": {},
   "outputs": [],
   "source": [
    "#Run a simple linear regression model using statsmodels (excluding outliers)\n",
    "\n",
    "model = smf.ols(formula = 'salary~yearsworked', data=X_train).fit()\n",
    "model.summary()"
   ]
  },
  {
   "cell_type": "markdown",
   "metadata": {},
   "source": [
    "### Interpreting correlation graph\n",
    "\n",
    "- The above table shows the correlation between two variables, showcasing its <b>strengths and direction</b>. This helps us to select the features that have a significant impact on the response variable and therefore helping us predict the salaries.\n",
    "\n",
    "- looking at the correlation between the response variable Salary and the feature variable yearsworked which is <b>0.623589</b>. This is a <b> fairly strong positive relationship </b>, and therefore we can assume as the number of years worked increases the value of salary also increases."
   ]
  },
  {
   "cell_type": "markdown",
   "metadata": {},
   "source": [
    "## Does the model significantly predict the dependent variable? Report the amount of variance explained (R^2) and significance value (p) to support your answer.\n",
    "## What percentage of the variance in employees’ salaries is accounted for by the number of years they have worked\n",
    "\n"
   ]
  },
  {
   "cell_type": "code",
   "execution_count": null,
   "metadata": {},
   "outputs": [],
   "source": [
    "model.rquared"
   ]
  },
  {
   "cell_type": "markdown",
   "metadata": {},
   "source": [
    "R^2\n",
    "\n",
    "What percentage of the variance in employees’ salaries is accounted for by the number of years they have worked?\n",
    "It reveals that about 37% of the data fit the regression model."
   ]
  },
  {
   "cell_type": "markdown",
   "metadata": {},
   "source": [
    "overall significance"
   ]
  },
  {
   "cell_type": "markdown",
   "metadata": {},
   "source": [
    "# interpret coefficient of Years Worked and Salary\n",
    "\n",
    "The coefficient of 827.1461 means that as the yerasworked variable increases by 1 year, the predicted value of salaries increases by 827.1461 dollars, i.e using units of the observed values to see the relationship."
   ]
  },
  {
   "cell_type": "markdown",
   "metadata": {},
   "source": [
    "#### answer\n",
    "\n",
    "What do the 95% confidence intervals [0.025, 0.975] mean?\n",
    "\n",
    "A 95% confidence interval is a range of values that you can be 95% certain that it contains the true mean of the population. Idealy, with regards to the interval,the true population mean value should be on that interval. If a confidence interval does not include a particular value, we can say that it is not likely that the particular value is the true population mean. However, even if a particular value is within the interval, we shouldn't conclude that the population mean equals that specific value.\n",
    "\n",
    "The confidence interval can also be used for coefficients of the regression model Use the confidence interval to assess the estimate of the population coefficient for each term in the model.\n",
    "\n",
    "The coefficient for the years worked is 827.1461. The 95% confidence interval is [714.150,940.143]. The coefficient falls on the interval. You can be 95% confident that the confidence interval contains the value of the coefficient for the population.\n",
    "\n",
    "The same applies for the constant coefficient."
   ]
  },
  {
   "cell_type": "code",
   "execution_count": null,
   "metadata": {},
   "outputs": [],
   "source": [
    "#Calculate expected salary for someone who worked for 12 years\n",
    "\n",
    "experience = pd.DataFrame({'yearsworked':[12]})\n",
    "predict_salary=model1.predict(experience)\n",
    "p=predict_salary.iloc[0]\n",
    "print('The expected salary of a person with 12 years experience is:',p,'dollars')"
   ]
  },
  {
   "cell_type": "code",
   "execution_count": null,
   "metadata": {},
   "outputs": [],
   "source": [
    "#Calculate expected salary for someone who worked for 80 years\n",
    "\n",
    "experience = pd.DataFrame({'yearsworked':[80]})\n",
    "predict_salary=model1.predict(experience)\n",
    "p=predict_salary.iloc[0]\n",
    "print('The expected salary of a person with 80 years experience is:',p,'dollars')"
   ]
  },
  {
   "cell_type": "markdown",
   "metadata": {},
   "source": [
    "#### answer\n",
    "Are there any problems with this prediction? If so, what are they?\n",
    "\n",
    "\n",
    "There were no problems to make this prediction which is a concern because 80 years of experince is a rare value prediction in this Regression. What does this mean for the predictive model?"
   ]
  },
  {
   "cell_type": "markdown",
   "metadata": {},
   "source": [
    "#### feature selection\n",
    "We have only looked at the number of years an employee has worked. What other employee characteristics might influence their salary?\n",
    "\n",
    "\n",
    "By the correlation map shown in the beginning, the feature that has a good correlation with salary, which is even better than the years worked is position. Years worked at current rank also has a good correlation with salary. The rest of the features have less than 50% correlation with salary. It would not make sense to build a model with features that have no or a very weak relationship with salary"
   ]
  },
  {
   "cell_type": "code",
   "execution_count": null,
   "metadata": {},
   "outputs": [],
   "source": [
    "#fitting model\n",
    "\n",
    "predicted1=model1.predict(x_test)\n",
    "predict = pd.DataFrame(predicted1,columns =['Predicted salary'])\n",
    "result = pd.concat([y_test, predict], axis=1, sort=False)"
   ]
  },
  {
   "cell_type": "markdown",
   "metadata": {},
   "source": [
    "How does your model compare when running it on the test set - what is the difference in the Root Mean Square Error (RMSE) between the training and test sets? Is there any evidence of overfitting?"
   ]
  }
 ],
 "metadata": {
  "kernelspec": {
   "display_name": "Python 3",
   "language": "python",
   "name": "python3"
  },
  "language_info": {
   "codemirror_mode": {
    "name": "ipython",
    "version": 3
   },
   "file_extension": ".py",
   "mimetype": "text/x-python",
   "name": "python",
   "nbconvert_exporter": "python",
   "pygments_lexer": "ipython3",
   "version": "3.6.8"
  }
 },
 "nbformat": 4,
 "nbformat_minor": 2
}
